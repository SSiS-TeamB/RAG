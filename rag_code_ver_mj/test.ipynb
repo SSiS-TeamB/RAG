{
 "cells": [
  {
   "cell_type": "code",
   "execution_count": 1,
   "metadata": {},
   "outputs": [
    {
     "data": {
      "text/plain": [
       "95"
      ]
     },
     "execution_count": 1,
     "metadata": {},
     "output_type": "execute_result"
    }
   ],
   "source": [
    "len(\"Brazil is the world's fifth-largest country by area and the seventh most popul ous. Its capital\")"
   ]
  },
  {
   "cell_type": "code",
   "execution_count": 24,
   "metadata": {},
   "outputs": [
    {
     "data": {
      "text/plain": [
       "'C:\\\\bigleader2_project\\\\rag_code_junho'"
      ]
     },
     "execution_count": 24,
     "metadata": {},
     "output_type": "execute_result"
    }
   ],
   "source": [
    "import os\n",
    "directory =os.getcwd()\n",
    "directory"
   ]
  },
  {
   "cell_type": "code",
   "execution_count": 25,
   "metadata": {},
   "outputs": [
    {
     "data": {
      "text/plain": [
       "'C:\\\\bigleader2_project'"
      ]
     },
     "execution_count": 25,
     "metadata": {},
     "output_type": "execute_result"
    }
   ],
   "source": [
    "os.path.dirname(directory)"
   ]
  },
  {
   "cell_type": "code",
   "execution_count": 26,
   "metadata": {},
   "outputs": [
    {
     "data": {
      "text/plain": [
       "'C:\\\\bigleader2_project\\\\rag_code_junho'"
      ]
     },
     "execution_count": 26,
     "metadata": {},
     "output_type": "execute_result"
    }
   ],
   "source": [
    "os.path.abspath(directory)"
   ]
  },
  {
   "cell_type": "code",
   "execution_count": 27,
   "metadata": {},
   "outputs": [
    {
     "data": {
      "text/plain": [
       "'rag_code_junho'"
      ]
     },
     "execution_count": 27,
     "metadata": {},
     "output_type": "execute_result"
    }
   ],
   "source": [
    "os.path.basename(directory)"
   ]
  },
  {
   "cell_type": "code",
   "execution_count": 7,
   "metadata": {},
   "outputs": [],
   "source": [
    "new_directory = os.path.join(directory,'hihi')"
   ]
  },
  {
   "cell_type": "code",
   "execution_count": 8,
   "metadata": {},
   "outputs": [
    {
     "data": {
      "text/plain": [
       "'c:\\\\bigleader2_project\\\\rag_code_junho\\\\hihi'"
      ]
     },
     "execution_count": 8,
     "metadata": {},
     "output_type": "execute_result"
    }
   ],
   "source": [
    "new_directory"
   ]
  },
  {
   "cell_type": "markdown",
   "metadata": {},
   "source": [
    "# documnet.p 에서 Result 의 타입  확인"
   ]
  },
  {
   "cell_type": "code",
   "execution_count": 28,
   "metadata": {},
   "outputs": [],
   "source": [
    "import os\n",
    "import uuid\n",
    "\n",
    "from langchain.document_loaders import DirectoryLoader, UnstructuredMarkdownLoader\n",
    "from langchain.text_splitter import MarkdownTextSplitter\n"
   ]
  },
  {
   "cell_type": "code",
   "execution_count": 48,
   "metadata": {},
   "outputs": [],
   "source": [
    "class BaseDBLoader:\n",
    "    \"\"\"markdownDB folder에서 불러온 다음에 폴더별로 내부에 있는 내용 Load해서 Split하고 저장함\"\"\"\n",
    "    \n",
    "    # text load & split  에 필요한 configuration \n",
    "    # text load 전 디렉토리 설정 후 text file list 생성\n",
    "    def __init__(self, path_db:str=\"./markdownDB\"):\n",
    "        #textsplitter config\n",
    "        self.text_splitter = MarkdownTextSplitter(\n",
    "            chunk_size=200,\n",
    "            is_separator_regex=False,  \n",
    "            # seperator -> default : [\"\\n\\n\", \"\\n\", \" \", \"\"]  , seperator 지정시  졍규표현식인지 여부 확인\n",
    "        )\n",
    "        \n",
    "        #directoryconfig\n",
    "        ##__file__이 실행되는 디렉토리 반환\n",
    "        self.directory = os.path.dirname(os.getcwd())\n",
    "        os.chdir(self.directory)\n",
    "\n",
    "        #get list of db\n",
    "        # path_db 에 있는 파일들 리스트로 저장\n",
    "        self.path_db = path_db\n",
    "        self.list_of_path_db = os.listdir(path_db)\n",
    "\n",
    "    ##  text load & split\n",
    "    def load(self)->list:\n",
    "        \"\"\"Generate corpus from langchain document object\"\"\"\n",
    "        list_of_path_db=self.list_of_path_db\n",
    "        text_splitter=self.text_splitter\n",
    "        \n",
    "        ## markdownDB 에 있는 파일들 load_split 후 저장할 리스트 생성\n",
    "        result_storage = []\n",
    "\n",
    "        ## path_db 파일 리스트에 있는 파일 하나씩 불러와서 load 후 split 해서 extend\n",
    "        for db_folder in list_of_path_db:\n",
    "            directory_loader = DirectoryLoader(path=os.path.join(self.path_db, db_folder), loader_cls=UnstructuredMarkdownLoader)\n",
    "            result = directory_loader.load_and_split(text_splitter=text_splitter)\n",
    "            result_storage.extend(result)     \n",
    "\n",
    "        return result_storage"
   ]
  },
  {
   "cell_type": "code",
   "execution_count": 59,
   "metadata": {},
   "outputs": [
    {
     "data": {
      "text/plain": [
       "'C:\\\\'"
      ]
     },
     "execution_count": 59,
     "metadata": {},
     "output_type": "execute_result"
    }
   ],
   "source": [
    "os.getcwd()"
   ]
  },
  {
   "cell_type": "code",
   "execution_count": 62,
   "metadata": {},
   "outputs": [],
   "source": [
    "os.getcwd()\n",
    "os.chdir(r\"C:\\bigleader2_project\\rag_code_junho\")"
   ]
  },
  {
   "cell_type": "code",
   "execution_count": 64,
   "metadata": {},
   "outputs": [
    {
     "ename": "FileNotFoundError",
     "evalue": "[WinError 3] 지정된 경로를 찾을 수 없습니다: './markdownDB'",
     "output_type": "error",
     "traceback": [
      "\u001b[1;31m---------------------------------------------------------------------------\u001b[0m",
      "\u001b[1;31mFileNotFoundError\u001b[0m                         Traceback (most recent call last)",
      "\u001b[1;32mc:\\bigleader2_project\\rag_code_junho\\test.ipynb Cell 13\u001b[0m line \u001b[0;36m1\n\u001b[1;32m----> <a href='vscode-notebook-cell:/c%3A/bigleader2_project/rag_code_junho/test.ipynb#X20sZmlsZQ%3D%3D?line=0'>1</a>\u001b[0m DB_test \u001b[39m=\u001b[39m BaseDBLoader()\n",
      "\u001b[1;32mc:\\bigleader2_project\\rag_code_junho\\test.ipynb Cell 13\u001b[0m line \u001b[0;36m2\n\u001b[0;32m     <a href='vscode-notebook-cell:/c%3A/bigleader2_project/rag_code_junho/test.ipynb#X20sZmlsZQ%3D%3D?line=18'>19</a>\u001b[0m \u001b[39m#get list of db\u001b[39;00m\n\u001b[0;32m     <a href='vscode-notebook-cell:/c%3A/bigleader2_project/rag_code_junho/test.ipynb#X20sZmlsZQ%3D%3D?line=19'>20</a>\u001b[0m \u001b[39m# path_db 에 있는 파일들 리스트로 저장\u001b[39;00m\n\u001b[0;32m     <a href='vscode-notebook-cell:/c%3A/bigleader2_project/rag_code_junho/test.ipynb#X20sZmlsZQ%3D%3D?line=20'>21</a>\u001b[0m \u001b[39mself\u001b[39m\u001b[39m.\u001b[39mpath_db \u001b[39m=\u001b[39m path_db\n\u001b[1;32m---> <a href='vscode-notebook-cell:/c%3A/bigleader2_project/rag_code_junho/test.ipynb#X20sZmlsZQ%3D%3D?line=21'>22</a>\u001b[0m \u001b[39mself\u001b[39m\u001b[39m.\u001b[39mlist_of_path_db \u001b[39m=\u001b[39m os\u001b[39m.\u001b[39;49mlistdir(path_db)\n",
      "\u001b[1;31mFileNotFoundError\u001b[0m: [WinError 3] 지정된 경로를 찾을 수 없습니다: './markdownDB'"
     ]
    }
   ],
   "source": [
    "DB_test = BaseDBLoader()"
   ]
  }
 ],
 "metadata": {
  "kernelspec": {
   "display_name": "ssis_project",
   "language": "python",
   "name": "python3"
  },
  "language_info": {
   "codemirror_mode": {
    "name": "ipython",
    "version": 3
   },
   "file_extension": ".py",
   "mimetype": "text/x-python",
   "name": "python",
   "nbconvert_exporter": "python",
   "pygments_lexer": "ipython3",
   "version": "3.10.12"
  }
 },
 "nbformat": 4,
 "nbformat_minor": 2
}
