{
 "cells": [
  {
   "cell_type": "markdown",
   "metadata": {},
   "source": [
    "### Using chromadb"
   ]
  },
  {
   "cell_type": "code",
   "execution_count": 18,
   "metadata": {},
   "outputs": [],
   "source": [
    "from chromaClient import ChromaClient"
   ]
  },
  {
   "cell_type": "code",
   "execution_count": 19,
   "metadata": {},
   "outputs": [],
   "source": [
    "chroma_client = ChromaClient()"
   ]
  },
  {
   "cell_type": "code",
   "execution_count": 20,
   "metadata": {},
   "outputs": [
    {
     "data": {
      "text/plain": [
       "[Collection(name=wf_schema), Collection(name=langchain)]"
      ]
     },
     "execution_count": 20,
     "metadata": {},
     "output_type": "execute_result"
    }
   ],
   "source": [
    "chroma_client.collection_list"
   ]
  },
  {
   "cell_type": "code",
   "execution_count": 21,
   "metadata": {},
   "outputs": [],
   "source": [
    "from chromadb.utils import embedding_functions"
   ]
  },
  {
   "cell_type": "code",
   "execution_count": 22,
   "metadata": {},
   "outputs": [],
   "source": [
    "base_model = \"BM-K/KoSimCSE-roberta-multitask\"\n",
    "emb_func = embedding_functions.SentenceTransformerEmbeddingFunction(model_name=base_model, normalize_embeddings=True)"
   ]
  },
  {
   "cell_type": "code",
   "execution_count": 26,
   "metadata": {},
   "outputs": [],
   "source": [
    "chroma_client.connect_collection(coll_name='langchain', emb_model=base_model)"
   ]
  },
  {
   "cell_type": "code",
   "execution_count": 27,
   "metadata": {},
   "outputs": [
    {
     "data": {
      "text/plain": [
       "0"
      ]
     },
     "execution_count": 27,
     "metadata": {},
     "output_type": "execute_result"
    }
   ],
   "source": [
    "chroma_client.collection.count()"
   ]
  },
  {
   "cell_type": "code",
   "execution_count": 8,
   "metadata": {},
   "outputs": [
    {
     "data": {
      "text/plain": [
       "{'ids': [['1d86f62f-8243-11ee-bb56-9822ef80fc28',\n",
       "   'd2afb478-8242-11ee-a3e0-9822ef80fc28',\n",
       "   '37adcb50-8247-11ee-91a7-9822ef80fc28']],\n",
       " 'distances': [[0.6858786344528198, 0.6905706524848938, 0.6916413307189941]],\n",
       " 'metadatas': [[None, None, None]],\n",
       " 'embeddings': None,\n",
       " 'documents': [['-',\n",
       "   '위기 상황',\n",
       "   '대상\\n\\n기준 중위소득 75% 이하의 북한이탈주민(세대)으로, 다음 사유로 인해 생계 안정이 필요한 경우:\\n\\n주소득자가 사망, 가출, 행방불명, 구금시설에 수용되는 등의 사유로 소득을 상실한 경우\\n\\n주소득자 또는 부소득자의 실직, 휴업, 폐업 또는 사업장의 화재, 중한 질병이나 부상 등으로 소득 상실 또는 소득활동이 중단된 경우']],\n",
       " 'uris': None,\n",
       " 'data': None}"
      ]
     },
     "execution_count": 8,
     "metadata": {},
     "output_type": "execute_result"
    }
   ],
   "source": [
    "chroma_client.semantic_search(['배고파ㅏㅏㅏㅏ'], 3)"
   ]
  },
  {
   "cell_type": "markdown",
   "metadata": {},
   "source": [
    "### Using vectorstores"
   ]
  },
  {
   "cell_type": "code",
   "execution_count": 25,
   "metadata": {},
   "outputs": [],
   "source": [
    "from langchain.vectorstores.chroma import Chroma\n",
    "from langchain.embeddings import SentenceTransformerEmbeddings as STE"
   ]
  },
  {
   "cell_type": "code",
   "execution_count": 2,
   "metadata": {},
   "outputs": [],
   "source": [
    "def _device_check():\n",
    "    ''' for check cuda availability '''\n",
    "    import torch\n",
    "    device = \"cuda\" if torch.cuda.is_available() else \"cpu\"\n",
    "    # torch.backends.mps.is_available()\n",
    "    return device"
   ]
  },
  {
   "cell_type": "code",
   "execution_count": 3,
   "metadata": {},
   "outputs": [],
   "source": [
    "embedding = STE(\n",
    "    model_name=\"BM-K/KoSimCSE-roberta-multitask\", \n",
    "    model_kwargs={'device': _device_check()},\n",
    "    encode_kwargs={'normalize_embeddings': True},\n",
    "    )"
   ]
  },
  {
   "cell_type": "code",
   "execution_count": 6,
   "metadata": {},
   "outputs": [],
   "source": [
    "from langchain.chains import RetrievalQA"
   ]
  },
  {
   "cell_type": "code",
   "execution_count": 20,
   "metadata": {},
   "outputs": [],
   "source": [
    "vector_store = Chroma(collection_name='langchain', persist_directory=\"workspace/chroma_storage\", embedding_function=embedding)"
   ]
  },
  {
   "cell_type": "code",
   "execution_count": null,
   "metadata": {},
   "outputs": [],
   "source": []
  },
  {
   "cell_type": "code",
   "execution_count": 22,
   "metadata": {},
   "outputs": [],
   "source": [
    "rt = vector_store.as_retriever(search_type='mmr')"
   ]
  },
  {
   "cell_type": "code",
   "execution_count": 23,
   "metadata": {},
   "outputs": [],
   "source": [
    "q = \"졸라 배고파ㅏㅏㅏ\""
   ]
  },
  {
   "cell_type": "code",
   "execution_count": 24,
   "metadata": {},
   "outputs": [],
   "source": [
    "res = rt.get_relevant_documents(q)"
   ]
  },
  {
   "cell_type": "code",
   "execution_count": 25,
   "metadata": {},
   "outputs": [
    {
     "data": {
      "text/plain": [
       "[Document(page_content='식비 \\n  1일 5시간 이상(월평균 100시간 이상)인 과정 참여자 중 훈련기관에서 식사를 제공하지 않는 경우 월 최대 6만 6,000 원(3,300 원일) 지급  통학생 중 개인적 사정(식이조절 등으로 인한 개별 도시락 지참 등)으로 식사 제공 대신 식비 지급을 희망할 경우 월 최대 6만 6,000 원(3,300 원일) 지급', metadata={'source': 'markdowndb\\\\07_장애인_지원\\\\07_장애인_직업능력개발_운영(훈련수당).md'}),\n",
       " Document(page_content='위기 상황', metadata={'source': 'markdowndb\\\\01_생계_지원\\\\01_긴급복지_지원제도.md'}),\n",
       " Document(page_content='실업급여\\n\\n대상', metadata={'source': 'markdowndb\\\\02_취업_지원\\\\02_실업급여.md'}),\n",
       " Document(page_content='또는 건물에서 생활하기 곤란한 경우  주소득자 또는 부소득자의 휴업, 폐업 또는 사업장의 화재 등으로 영업이 곤란하게 된 경우  주소득자 또는 부소득자의 실직으로 소득을 상실한 경우  지자체 조례로 정한 사유가 발생한 경우  소득활동 미미(가구원 간호, 간병, 양육), 기초수급 중지, 미결정, 수도·가스 중단, 사회보험료·주택임차료 체납 등  관할', metadata={'source': 'markdowndb\\\\01_생계_지원\\\\01_긴급복지_지원제도.md'})]"
      ]
     },
     "execution_count": 25,
     "metadata": {},
     "output_type": "execute_result"
    }
   ],
   "source": [
    "res"
   ]
  },
  {
   "cell_type": "code",
   "execution_count": 26,
   "metadata": {},
   "outputs": [
    {
     "data": {
      "text/plain": [
       "[Document(page_content='식비 \\n  1일 5시간 이상(월평균 100시간 이상)인 과정 참여자 중 훈련기관에서 식사를 제공하지 않는 경우 월 최대 6만 6,000 원(3,300 원일) 지급  통학생 중 개인적 사정(식이조절 등으로 인한 개별 도시락 지참 등)으로 식사 제공 대신 식비 지급을 희망할 경우 월 최대 6만 6,000 원(3,300 원일) 지급', metadata={'source': 'markdowndb\\\\07_장애인_지원\\\\07_장애인_직업능력개발_운영(훈련수당).md'}),\n",
       " Document(page_content='위기 상황', metadata={'source': 'markdowndb\\\\01_생계_지원\\\\01_긴급복지_지원제도.md'}),\n",
       " Document(page_content='실업급여\\n\\n대상', metadata={'source': 'markdowndb\\\\02_취업_지원\\\\02_실업급여.md'}),\n",
       " Document(page_content='또는 건물에서 생활하기 곤란한 경우  주소득자 또는 부소득자의 휴업, 폐업 또는 사업장의 화재 등으로 영업이 곤란하게 된 경우  주소득자 또는 부소득자의 실직으로 소득을 상실한 경우  지자체 조례로 정한 사유가 발생한 경우  소득활동 미미(가구원 간호, 간병, 양육), 기초수급 중지, 미결정, 수도·가스 중단, 사회보험료·주택임차료 체납 등  관할', metadata={'source': 'markdowndb\\\\01_생계_지원\\\\01_긴급복지_지원제도.md'})]"
      ]
     },
     "execution_count": 26,
     "metadata": {},
     "output_type": "execute_result"
    }
   ],
   "source": [
    "vector_store.max_marginal_relevance_search(q)"
   ]
  },
  {
   "cell_type": "code",
   "execution_count": 27,
   "metadata": {},
   "outputs": [],
   "source": [
    "# vector_store.get()"
   ]
  },
  {
   "cell_type": "code",
   "execution_count": 33,
   "metadata": {},
   "outputs": [
    {
     "name": "stdout",
     "output_type": "stream",
     "text": [
      "{'x': 1, 'y': 2}\n"
     ]
    }
   ],
   "source": [
    "def test_method(**kwargs):\n",
    "    print(kwargs)\n",
    "    return \n",
    "\n",
    "kw_dict = {'x': 1, 'y':2}\n",
    "\n",
    "ans = test_method(**kw_dict)\n",
    "ans"
   ]
  },
  {
   "cell_type": "markdown",
   "metadata": {},
   "source": [
    "### Using my class"
   ]
  },
  {
   "cell_type": "markdown",
   "metadata": {},
   "source": [
    "langchain 으로 서치"
   ]
  },
  {
   "cell_type": "code",
   "execution_count": 28,
   "metadata": {},
   "outputs": [],
   "source": [
    "from chromaVectorStore import ChromaVectorStore\n",
    "\n",
    "import torch\n",
    "from langchain.vectorstores.chroma import Chroma\n",
    "from langchain.embeddings import SentenceTransformerEmbeddings"
   ]
  },
  {
   "cell_type": "code",
   "execution_count": 29,
   "metadata": {},
   "outputs": [],
   "source": [
    "# base_model = 'D:\\python_project\\RAG\\Seed_100_tok_epoch_8_final'\n",
    "base_model = \"BM-K/KoSimCSE-roberta-multitask\""
   ]
  },
  {
   "cell_type": "code",
   "execution_count": 30,
   "metadata": {},
   "outputs": [],
   "source": [
    "emb_info_dict = {'model_name': base_model, 'model_kwargs': {'device': \"cuda\" if torch.cuda.is_available() else \"cpu\"},\n",
    "    'encode_kwargs': {'normalize_embeddings': True}}\n",
    "\n",
    "lc_emb_func = SentenceTransformerEmbeddings(**emb_info_dict)"
   ]
  },
  {
   "cell_type": "code",
   "execution_count": 32,
   "metadata": {},
   "outputs": [],
   "source": [
    "vs_info_dict = {'model_name': base_model, 'collection_name': 'langchain', 'persist_directory': 'workspace/chroma_storage', 'embedding_function': lc_emb_func}\n",
    "\n",
    "vector_store = ChromaVectorStore(**vs_info_dict)"
   ]
  },
  {
   "cell_type": "code",
   "execution_count": 33,
   "metadata": {},
   "outputs": [
    {
     "data": {
      "text/plain": [
       "1817"
      ]
     },
     "execution_count": 33,
     "metadata": {},
     "output_type": "execute_result"
    }
   ],
   "source": [
    "vector_store.vs._collection.count()"
   ]
  },
  {
   "cell_type": "code",
   "execution_count": 35,
   "metadata": {},
   "outputs": [
    {
     "data": {
      "text/plain": [
       "dict_keys(['ids', 'embeddings', 'metadatas', 'documents', 'uris', 'data'])"
      ]
     },
     "execution_count": 35,
     "metadata": {},
     "output_type": "execute_result"
    }
   ],
   "source": [
    "vector_store.vs.get().keys()"
   ]
  },
  {
   "cell_type": "code",
   "execution_count": 36,
   "metadata": {},
   "outputs": [],
   "source": [
    "vs_dict = vector_store.vs.get()"
   ]
  },
  {
   "cell_type": "code",
   "execution_count": 40,
   "metadata": {},
   "outputs": [],
   "source": [
    "with open('for_test/contents.txt', 'w', encoding='utf-8') as fw:\n",
    "    fw.write(f\"\\n{'-'*50}\\n\".join(vs_dict['documents']))"
   ]
  },
  {
   "cell_type": "code",
   "execution_count": null,
   "metadata": {},
   "outputs": [],
   "source": []
  },
  {
   "cell_type": "code",
   "execution_count": 40,
   "metadata": {},
   "outputs": [],
   "source": [
    "q = '졸라 배고파'\n",
    "\n",
    "res = vector_store.retrieve(q)"
   ]
  },
  {
   "cell_type": "code",
   "execution_count": 41,
   "metadata": {},
   "outputs": [
    {
     "name": "stdout",
     "output_type": "stream",
     "text": [
      "[Document(page_content='식비 \\n - 1일 5시간 이상(월평균 100시간 이상)인 과정 참여자 중 훈련기관에서 식사를 제공하지 않는 경우 월 최대 6만 6,000 원(3,300 원/일) 지급 - 통학생 중 개인적 사정(식이조절 등으로 인한 개별 도시락 지참 등)으로 식사 제공 대신 식비 지급을 희망할 경우 월 최대 6만 6,000 원(3,300 원/일) 지급'), Document(page_content='영양플러스\\n\\n대상\\n\\n소득인정액이 기준 중위소득 80%(4인 기준 432만 1,000원) 이하 가구 중 영양위험요인 (빈혈, 저체중, 성장부진, 영양섭취불량 등)을 가진 임신부, 출산·수유부, 만 6세 이하 영유아\\n\\n내용\\n\\n개인별 영양 상태에 따라 영양보충식품(쌀, 감자, 달걀, 우유, 검정콩 등) 제공'), Document(page_content='위기 상황'), Document(page_content='구금시설 수용 등으로 소득을 상실한 경우 ② 중한 질병 또는 부상을 당한 경우 ③ 가구 구성원으로부터 방임 또는 유기되거나 학대 등을 당한 경우 ④ 가족폭력을 당하여 가구구성원과 함께 원만한 가정 생활을 하기 곤란하거나 가구구성원으로부터 성폭력을 당한 경우 ⑤ 화재 또는 자연재해 등으로 인해 거주하는 주택 또는 건물에서 생활하기 곤란한 경우 ⑥ 주소득자')]\n",
      "--------------------\n",
      "[Document(page_content='식비 \\n - 1일 5시간 이상(월평균 100시간 이상)인 과정 참여자 중 훈련기관에서 식사를 제공하지 않는 경우 월 최대 6만 6,000 원(3,300 원/일) 지급 - 통학생 중 개인적 사정(식이조절 등으로 인한 개별 도시락 지참 등)으로 식사 제공 대신 식비 지급을 희망할 경우 월 최대 6만 6,000 원(3,300 원/일) 지급'), Document(page_content='영양플러스\\n\\n대상\\n\\n소득인정액이 기준 중위소득 80%(4인 기준 432만 1,000원) 이하 가구 중 영양위험요인 (빈혈, 저체중, 성장부진, 영양섭취불량 등)을 가진 임신부, 출산·수유부, 만 6세 이하 영유아\\n\\n내용\\n\\n개인별 영양 상태에 따라 영양보충식품(쌀, 감자, 달걀, 우유, 검정콩 등) 제공'), Document(page_content='위기 상황'), Document(page_content='구금시설 수용 등으로 소득을 상실한 경우 ② 중한 질병 또는 부상을 당한 경우 ③ 가구 구성원으로부터 방임 또는 유기되거나 학대 등을 당한 경우 ④ 가족폭력을 당하여 가구구성원과 함께 원만한 가정 생활을 하기 곤란하거나 가구구성원으로부터 성폭력을 당한 경우 ⑤ 화재 또는 자연재해 등으로 인해 거주하는 주택 또는 건물에서 생활하기 곤란한 경우 ⑥ 주소득자')]\n",
      "--------------------\n"
     ]
    }
   ],
   "source": [
    "for a in res:\n",
    "    print(a)\n",
    "    print('-'*20)"
   ]
  },
  {
   "cell_type": "code",
   "execution_count": null,
   "metadata": {},
   "outputs": [],
   "source": []
  },
  {
   "cell_type": "code",
   "execution_count": 1,
   "metadata": {},
   "outputs": [],
   "source": [
    "from chromaVectorStore import ChromaVectorStore"
   ]
  },
  {
   "cell_type": "code",
   "execution_count": 28,
   "metadata": {},
   "outputs": [],
   "source": [
    "base_model = \"BM-K/KoSimCSE-roberta-multitask\"\n",
    "vs_info_dict = {'model_name': base_model, 'collection_name': 'langchain', 'persist_directory': 'workspace/chroma_storage'}\n",
    "vector_store = ChromaVectorStore(**vs_info_dict)\n"
   ]
  },
  {
   "cell_type": "code",
   "execution_count": 9,
   "metadata": {},
   "outputs": [
    {
     "data": {
      "text/plain": [
       "[[], []]"
      ]
     },
     "execution_count": 9,
     "metadata": {},
     "output_type": "execute_result"
    }
   ],
   "source": [
    "query_text = '배고파ㅏㅏㅏ'\n",
    "\n",
    "base_model = \"BM-K/KoSimCSE-roberta-multitask\"\n",
    "vs_info_dict = {'model_name': base_model, 'collection_name': 'wf_schema', 'persist_directory': './chroma_storage'}\n",
    "vector_store_wf = ChromaVectorStore(**vs_info_dict)\n",
    "\n",
    "vector_store.retrieve(query_text)"
   ]
  },
  {
   "cell_type": "code",
   "execution_count": null,
   "metadata": {},
   "outputs": [],
   "source": [
    "vs_info_dict = {'model_name': base_model, 'collection_name': 'langchain', 'persist_directory': './chroma_storage'}\n",
    "vs2 = ChromaVectorStore(**vs_info_dict)\n"
   ]
  },
  {
   "cell_type": "markdown",
   "metadata": {},
   "source": [
    "### DBLoader 이용하기"
   ]
  },
  {
   "cell_type": "code",
   "execution_count": 1,
   "metadata": {},
   "outputs": [],
   "source": [
    "from workspace.mdLoader import BaseDBLoader\n",
    "import re\n",
    "import pickle"
   ]
  },
  {
   "cell_type": "code",
   "execution_count": 2,
   "metadata": {},
   "outputs": [
    {
     "name": "stderr",
     "output_type": "stream",
     "text": [
      "c:\\Users\\jjkha\\AppData\\Local\\Programs\\Python\\Python310\\lib\\site-packages\\unstructured\\documents\\html.py:498: FutureWarning: The behavior of this method will change in future versions. Use specific 'len(elem)' or 'elem is not None' test instead.\n",
      "  rows = body.findall(\"tr\") if body else []\n"
     ]
    },
    {
     "data": {
      "text/plain": [
       "464"
      ]
     },
     "execution_count": 2,
     "metadata": {},
     "output_type": "execute_result"
    }
   ],
   "source": [
    "doc_loader = BaseDBLoader('workspace/markdownDB')\n",
    "docs = doc_loader.load(is_split=False, is_regex=False)\n",
    "\n",
    "len(docs)"
   ]
  },
  {
   "cell_type": "code",
   "execution_count": 3,
   "metadata": {},
   "outputs": [
    {
     "name": "stdout",
     "output_type": "stream",
     "text": [
      "page_content='LPG용기 사용가구 시설개선\\n\\n대상\\n\\nLPG용기 사용 주택에서 LPG 고무호스를 사용 중인 가구\\n\\n내용\\n\\nLP가스 고무호스 교체(금속배관) 및 안전장치(퓨즈콕) 등 가스시설 설치 지원 (시공비 약 25만 원 중 20만 원 상당 지원, 자부담 5만 원)\\n\\n방법\\n\\n수혜대상자가 소재지 시군구 가스담당부서 또는 읍면동 주민센터(행정복지센터) 방문 신청\\n\\n문의\\n\\n소재지 시군구 가스담당부서 또는 읍면동 주민센터(행정복지센터)\\n\\n한국가스안전공사(☎1544-4500)' metadata={'source': 'workspace\\\\markdownDB\\\\01_생계_지원\\\\01_LPG용기_사용가구_시설개선.md'}\n"
     ]
    }
   ],
   "source": [
    "print(docs[0])\n",
    "# 139 376"
   ]
  },
  {
   "cell_type": "markdown",
   "metadata": {},
   "source": [
    "### SentenceTransformersTokenTextSplitter 확인"
   ]
  },
  {
   "cell_type": "code",
   "execution_count": 4,
   "metadata": {},
   "outputs": [],
   "source": [
    "from langchain.text_splitter import SentenceTransformersTokenTextSplitter"
   ]
  },
  {
   "cell_type": "code",
   "execution_count": 5,
   "metadata": {},
   "outputs": [],
   "source": [
    "s_splitter = SentenceTransformersTokenTextSplitter(chunk_overlap=10, model_name=\"BM-K/KoSimCSE-roberta-multitask\", tokens_per_chunk=100)"
   ]
  },
  {
   "cell_type": "code",
   "execution_count": 6,
   "metadata": {},
   "outputs": [],
   "source": [
    "splitted_docs = s_splitter.split_documents(docs)"
   ]
  },
  {
   "cell_type": "code",
   "execution_count": 7,
   "metadata": {},
   "outputs": [
    {
     "data": {
      "text/plain": [
       "1627"
      ]
     },
     "execution_count": 7,
     "metadata": {},
     "output_type": "execute_result"
    }
   ],
   "source": [
    "len(splitted_docs)"
   ]
  },
  {
   "cell_type": "code",
   "execution_count": 20,
   "metadata": {},
   "outputs": [
    {
     "name": "stdout",
     "output_type": "stream",
     "text": [
      "LPG용기 사용가구 시설개선 대상 LPG용기 사용 주택에서 LPG 고무호스를 사용 중인 가구 내용 LP가스 고무호스 교체 ( 금속배관 ) 및 안전장치 ( 퓨즈콕 ) 등 가스시설 설치 지원 ( 시공비 약 25만 원 중 20만 원 상당 지원, 자부담 5만 원 ) 방법 수혜대상자가 소재지 시군구 가스담당부서 또는 읍면동 주민센터 ( 행정복지센터 ) 방문 신청 문의 소재지 시군구\n",
      "행정복지센터 ) 방문 신청 문의 소재지 시군구 가스담당부서 또는 읍면동 주민센터 ( 행정복지센터 ) 한국가스안전공사 ( [UNK] - 4500 )\n",
      "12\n"
     ]
    }
   ],
   "source": [
    "print(splitted_docs[0].page_content)\n",
    "print(splitted_docs[1].page_content)\n",
    "print(s_splitter.count_tokens(text=\"행정복지센터 ) 방문 신청 문의 소재지 시군구\"))"
   ]
  },
  {
   "cell_type": "code",
   "execution_count": 21,
   "metadata": {},
   "outputs": [],
   "source": [
    "from transformers import AutoModel, AutoTokenizer"
   ]
  },
  {
   "cell_type": "code",
   "execution_count": 22,
   "metadata": {},
   "outputs": [],
   "source": [
    "tokenizer_base = AutoTokenizer.from_pretrained(\"BM-K/KoSimCSE-roberta-multitask\")\n"
   ]
  },
  {
   "cell_type": "code",
   "execution_count": 24,
   "metadata": {},
   "outputs": [
    {
     "data": {
      "text/plain": [
       "100"
      ]
     },
     "execution_count": 24,
     "metadata": {},
     "output_type": "execute_result"
    }
   ],
   "source": [
    "len(tokenizer_base.tokenize(splitted_docs[0].page_content))"
   ]
  },
  {
   "cell_type": "markdown",
   "metadata": {},
   "source": [
    "### 텍스트 내용 전처리 테스트"
   ]
  },
  {
   "cell_type": "code",
   "execution_count": 3,
   "metadata": {},
   "outputs": [
    {
     "name": "stdout",
     "output_type": "stream",
     "text": [
      "햇살론 뱅크\n",
      "--------------------\n",
      "\n",
      "--------------------\n",
      "\n"
     ]
    }
   ],
   "source": [
    "idx = 376\n",
    "title = re.search('^(.+)\\n', only_texts[idx]).groups()[0].strip()\n",
    "if re.search('대상\\n', only_texts[idx]) and re.search('내용\\n', only_texts[idx]):\n",
    "    targets = re.search('대상((.|[\\s\\n])+?)내용', only_texts[idx]).groups()[0].strip()\n",
    "else:\n",
    "    targets = ''\n",
    "if re.search('내용\\n', only_texts[idx]) and re.search('방법\\n', only_texts[idx]):\n",
    "    contents = re.search('내용((.|[\\s\\n])+?)방법', only_texts[idx]).groups()[0].strip()\n",
    "else:\n",
    "    contents = ''\n",
    "\n",
    "print(title, targets, contents, sep='\\n--------------------\\n')"
   ]
  },
  {
   "cell_type": "code",
   "execution_count": 4,
   "metadata": {},
   "outputs": [],
   "source": [
    "only_texts = [d.page_content for d in docs_dup]"
   ]
  },
  {
   "cell_type": "code",
   "execution_count": 6,
   "metadata": {},
   "outputs": [],
   "source": [
    "with open(\"for_test/only_texts.pickle\",\"wb\") as fw:\n",
    "\tpickle.dump(only_texts, fw)"
   ]
  },
  {
   "cell_type": "code",
   "execution_count": 2,
   "metadata": {},
   "outputs": [],
   "source": [
    "import re\n",
    "import pickle\n",
    "\n",
    "with open(\"for_test/only_texts.pickle\",\"rb\") as fr:\n",
    "    only_texts = pickle.load(fr)"
   ]
  },
  {
   "cell_type": "code",
   "execution_count": 40,
   "metadata": {},
   "outputs": [],
   "source": [
    "def make_compact_contents(title, targets, contents):\n",
    "    full_text = f\"다음은 '{title}'에 대한 설명입니다.\\n\\n\"\n",
    "    if targets:\n",
    "        full_text = full_text + f\"먼저, 이 제도의 대상은 다음과 같습니다.\\n\\n{targets}\\n\\n\"\n",
    "    if contents:\n",
    "        full_text = full_text + f\"그리고 내용은 다음과 같습니다.\\n\\n{contents}\"\n",
    "    return full_text"
   ]
  },
  {
   "cell_type": "code",
   "execution_count": 84,
   "metadata": {},
   "outputs": [],
   "source": [
    "nums = []\n",
    "for idx, doc in enumerate(docs):\n",
    "    nums.append([idx, len(doc.page_content)])"
   ]
  },
  {
   "cell_type": "code",
   "execution_count": 92,
   "metadata": {},
   "outputs": [],
   "source": [
    "# print(docs[16].page_content)"
   ]
  },
  {
   "cell_type": "code",
   "execution_count": 85,
   "metadata": {},
   "outputs": [
    {
     "data": {
      "text/plain": [
       "[[0, 199],\n",
       " [1, 386],\n",
       " [2, 440],\n",
       " [3, 294],\n",
       " [4, 210],\n",
       " [5, 1273],\n",
       " [6, 2379],\n",
       " [7, 35],\n",
       " [8, 199],\n",
       " [9, 1735],\n",
       " [10, 445],\n",
       " [11, 137],\n",
       " [12, 1916],\n",
       " [13, 350],\n",
       " [14, 435],\n",
       " [15, 233],\n",
       " [16, 2188],\n",
       " [17, 336],\n",
       " [18, 287],\n",
       " [19, 212],\n",
       " [20, 303],\n",
       " [21, 162],\n",
       " [22, 306],\n",
       " [23, 162],\n",
       " [24, 213],\n",
       " [25, 185],\n",
       " [26, 691],\n",
       " [27, 321],\n",
       " [28, 198],\n",
       " [29, 262],\n",
       " [30, 377],\n",
       " [31, 167],\n",
       " [32, 657],\n",
       " [33, 529],\n",
       " [34, 225],\n",
       " [35, 268],\n",
       " [36, 484],\n",
       " [37, 348],\n",
       " [38, 455],\n",
       " [39, 2459],\n",
       " [40, 251],\n",
       " [41, 221],\n",
       " [42, 252],\n",
       " [43, 155],\n",
       " [44, 210],\n",
       " [45, 253],\n",
       " [46, 649],\n",
       " [47, 468],\n",
       " [48, 1007],\n",
       " [49, 706],\n",
       " [50, 284],\n",
       " [51, 531],\n",
       " [52, 196],\n",
       " [53, 177],\n",
       " [54, 477],\n",
       " [55, 630],\n",
       " [56, 398],\n",
       " [57, 314],\n",
       " [58, 148],\n",
       " [59, 267],\n",
       " [60, 326],\n",
       " [61, 302],\n",
       " [62, 405],\n",
       " [63, 136],\n",
       " [64, 250],\n",
       " [65, 276],\n",
       " [66, 242],\n",
       " [67, 691],\n",
       " [68, 304],\n",
       " [69, 509],\n",
       " [70, 361],\n",
       " [71, 491],\n",
       " [72, 1092],\n",
       " [73, 734],\n",
       " [74, 479],\n",
       " [75, 185],\n",
       " [76, 648],\n",
       " [77, 569],\n",
       " [78, 745],\n",
       " [79, 369],\n",
       " [80, 451],\n",
       " [81, 136],\n",
       " [82, 308],\n",
       " [83, 321],\n",
       " [84, 289],\n",
       " [85, 389],\n",
       " [86, 201],\n",
       " [87, 604],\n",
       " [88, 336],\n",
       " [89, 189],\n",
       " [90, 286],\n",
       " [91, 398],\n",
       " [92, 551],\n",
       " [93, 356],\n",
       " [94, 362],\n",
       " [95, 225],\n",
       " [96, 201],\n",
       " [97, 211],\n",
       " [98, 118],\n",
       " [99, 1493],\n",
       " [100, 146],\n",
       " [101, 238],\n",
       " [102, 354],\n",
       " [103, 208],\n",
       " [104, 396],\n",
       " [105, 175],\n",
       " [106, 816],\n",
       " [107, 219],\n",
       " [108, 200],\n",
       " [109, 366],\n",
       " [110, 557],\n",
       " [111, 369],\n",
       " [112, 374],\n",
       " [113, 225],\n",
       " [114, 500],\n",
       " [115, 1104],\n",
       " [116, 282],\n",
       " [117, 262],\n",
       " [118, 295],\n",
       " [119, 235],\n",
       " [120, 427],\n",
       " [121, 237],\n",
       " [122, 361],\n",
       " [123, 554],\n",
       " [124, 655],\n",
       " [125, 213],\n",
       " [126, 166],\n",
       " [127, 396],\n",
       " [128, 937],\n",
       " [129, 173],\n",
       " [130, 800],\n",
       " [131, 188],\n",
       " [132, 574],\n",
       " [133, 265],\n",
       " [134, 281],\n",
       " [135, 871],\n",
       " [136, 207],\n",
       " [137, 317],\n",
       " [138, 564],\n",
       " [139, 313],\n",
       " [140, 303],\n",
       " [141, 255],\n",
       " [142, 291],\n",
       " [143, 291],\n",
       " [144, 272],\n",
       " [145, 184],\n",
       " [146, 247],\n",
       " [147, 242],\n",
       " [148, 319],\n",
       " [149, 164],\n",
       " [150, 325],\n",
       " [151, 271],\n",
       " [152, 694],\n",
       " [153, 630],\n",
       " [154, 805],\n",
       " [155, 712],\n",
       " [156, 907],\n",
       " [157, 602],\n",
       " [158, 528],\n",
       " [159, 624],\n",
       " [160, 518],\n",
       " [161, 280],\n",
       " [162, 348],\n",
       " [163, 600],\n",
       " [164, 405],\n",
       " [165, 1304],\n",
       " [166, 307],\n",
       " [167, 808],\n",
       " [168, 431],\n",
       " [169, 237],\n",
       " [170, 179],\n",
       " [171, 164],\n",
       " [172, 494],\n",
       " [173, 231],\n",
       " [174, 323],\n",
       " [175, 150],\n",
       " [176, 263],\n",
       " [177, 724],\n",
       " [178, 291],\n",
       " [179, 379],\n",
       " [180, 594],\n",
       " [181, 420],\n",
       " [182, 203],\n",
       " [183, 84],\n",
       " [184, 462],\n",
       " [185, 402],\n",
       " [186, 656],\n",
       " [187, 218],\n",
       " [188, 495],\n",
       " [189, 1698],\n",
       " [190, 41],\n",
       " [191, 41],\n",
       " [192, 34],\n",
       " [193, 383],\n",
       " [194, 330],\n",
       " [195, 31],\n",
       " [196, 395],\n",
       " [197, 351],\n",
       " [198, 44],\n",
       " [199, 258],\n",
       " [200, 24],\n",
       " [201, 45],\n",
       " [202, 26],\n",
       " [203, 1148],\n",
       " [204, 28],\n",
       " [205, 31],\n",
       " [206, 31],\n",
       " [207, 30],\n",
       " [208, 31],\n",
       " [209, 34],\n",
       " [210, 29],\n",
       " [211, 23],\n",
       " [212, 294],\n",
       " [213, 379],\n",
       " [214, 33],\n",
       " [215, 361],\n",
       " [216, 244],\n",
       " [217, 26],\n",
       " [218, 300],\n",
       " [219, 30],\n",
       " [220, 29],\n",
       " [221, 24],\n",
       " [222, 569],\n",
       " [223, 23],\n",
       " [224, 33],\n",
       " [225, 28],\n",
       " [226, 32],\n",
       " [227, 26],\n",
       " [228, 23],\n",
       " [229, 531],\n",
       " [230, 30],\n",
       " [231, 249],\n",
       " [232, 324],\n",
       " [233, 224],\n",
       " [234, 326],\n",
       " [235, 142],\n",
       " [236, 399],\n",
       " [237, 283],\n",
       " [238, 461],\n",
       " [239, 344],\n",
       " [240, 382],\n",
       " [241, 504],\n",
       " [242, 197],\n",
       " [243, 163],\n",
       " [244, 149],\n",
       " [245, 311],\n",
       " [246, 361],\n",
       " [247, 147],\n",
       " [248, 189],\n",
       " [249, 173],\n",
       " [250, 155],\n",
       " [251, 232],\n",
       " [252, 159],\n",
       " [253, 275],\n",
       " [254, 380],\n",
       " [255, 325],\n",
       " [256, 154],\n",
       " [257, 189],\n",
       " [258, 314],\n",
       " [259, 250],\n",
       " [260, 427],\n",
       " [261, 324],\n",
       " [262, 233],\n",
       " [263, 447],\n",
       " [264, 269],\n",
       " [265, 161],\n",
       " [266, 355],\n",
       " [267, 696],\n",
       " [268, 164],\n",
       " [269, 302],\n",
       " [270, 174],\n",
       " [271, 209],\n",
       " [272, 692],\n",
       " [273, 535],\n",
       " [274, 311],\n",
       " [275, 206],\n",
       " [276, 628],\n",
       " [277, 305],\n",
       " [278, 629],\n",
       " [279, 468],\n",
       " [280, 250],\n",
       " [281, 256],\n",
       " [282, 170],\n",
       " [283, 240],\n",
       " [284, 602],\n",
       " [285, 526],\n",
       " [286, 644],\n",
       " [287, 320],\n",
       " [288, 119],\n",
       " [289, 836],\n",
       " [290, 247],\n",
       " [291, 629],\n",
       " [292, 418],\n",
       " [293, 379],\n",
       " [294, 142],\n",
       " [295, 256],\n",
       " [296, 590],\n",
       " [297, 529],\n",
       " [298, 31],\n",
       " [299, 261],\n",
       " [300, 313],\n",
       " [301, 284],\n",
       " [302, 232],\n",
       " [303, 220],\n",
       " [304, 330],\n",
       " [305, 601],\n",
       " [306, 346],\n",
       " [307, 215],\n",
       " [308, 213],\n",
       " [309, 220],\n",
       " [310, 330],\n",
       " [311, 315],\n",
       " [312, 178],\n",
       " [313, 238],\n",
       " [314, 27],\n",
       " [315, 25],\n",
       " [316, 29],\n",
       " [317, 28],\n",
       " [318, 27],\n",
       " [319, 39],\n",
       " [320, 489],\n",
       " [321, 304],\n",
       " [322, 39],\n",
       " [323, 427],\n",
       " [324, 29],\n",
       " [325, 30],\n",
       " [326, 314],\n",
       " [327, 28],\n",
       " [328, 30],\n",
       " [329, 31],\n",
       " [330, 770],\n",
       " [331, 757],\n",
       " [332, 45],\n",
       " [333, 23],\n",
       " [334, 34],\n",
       " [335, 32],\n",
       " [336, 24],\n",
       " [337, 22],\n",
       " [338, 27],\n",
       " [339, 21],\n",
       " [340, 21],\n",
       " [341, 24],\n",
       " [342, 21],\n",
       " [343, 37],\n",
       " [344, 225],\n",
       " [345, 386],\n",
       " [346, 352],\n",
       " [347, 23],\n",
       " [348, 22],\n",
       " [349, 22],\n",
       " [350, 314],\n",
       " [351, 241],\n",
       " [352, 23],\n",
       " [353, 23],\n",
       " [354, 205],\n",
       " [355, 776],\n",
       " [356, 24],\n",
       " [357, 142],\n",
       " [358, 156],\n",
       " [359, 177],\n",
       " [360, 21],\n",
       " [361, 1887],\n",
       " [362, 150],\n",
       " [363, 260],\n",
       " [364, 22],\n",
       " [365, 29],\n",
       " [366, 32],\n",
       " [367, 32],\n",
       " [368, 28],\n",
       " [369, 35],\n",
       " [370, 29],\n",
       " [371, 140],\n",
       " [372, 30],\n",
       " [373, 20],\n",
       " [374, 22],\n",
       " [375, 26],\n",
       " [376, 23],\n",
       " [377, 23],\n",
       " [378, 191],\n",
       " [379, 262],\n",
       " [380, 219],\n",
       " [381, 215],\n",
       " [382, 234],\n",
       " [383, 226],\n",
       " [384, 242],\n",
       " [385, 135],\n",
       " [386, 278],\n",
       " [387, 307],\n",
       " [388, 211],\n",
       " [389, 197],\n",
       " [390, 357],\n",
       " [391, 284],\n",
       " [392, 155],\n",
       " [393, 156],\n",
       " [394, 209],\n",
       " [395, 195],\n",
       " [396, 508],\n",
       " [397, 293],\n",
       " [398, 171],\n",
       " [399, 231],\n",
       " [400, 493],\n",
       " [401, 142],\n",
       " [402, 137],\n",
       " [403, 254],\n",
       " [404, 337],\n",
       " [405, 383],\n",
       " [406, 250],\n",
       " [407, 807],\n",
       " [408, 192],\n",
       " [409, 167],\n",
       " [410, 300],\n",
       " [411, 511],\n",
       " [412, 274],\n",
       " [413, 180],\n",
       " [414, 157],\n",
       " [415, 714],\n",
       " [416, 274],\n",
       " [417, 843],\n",
       " [418, 206],\n",
       " [419, 251],\n",
       " [420, 606],\n",
       " [421, 184],\n",
       " [422, 467],\n",
       " [423, 317],\n",
       " [424, 231],\n",
       " [425, 226],\n",
       " [426, 231],\n",
       " [427, 169],\n",
       " [428, 490],\n",
       " [429, 598],\n",
       " [430, 83],\n",
       " [431, 319],\n",
       " [432, 369],\n",
       " [433, 180],\n",
       " [434, 298],\n",
       " [435, 154],\n",
       " [436, 254],\n",
       " [437, 378],\n",
       " [438, 245],\n",
       " [439, 189],\n",
       " [440, 257],\n",
       " [441, 222],\n",
       " [442, 368],\n",
       " [443, 375],\n",
       " [444, 125],\n",
       " [445, 1877],\n",
       " [446, 338],\n",
       " [447, 495],\n",
       " [448, 486],\n",
       " [449, 388],\n",
       " [450, 403],\n",
       " [451, 249],\n",
       " [452, 530],\n",
       " [453, 330],\n",
       " [454, 216],\n",
       " [455, 181],\n",
       " [456, 192],\n",
       " [457, 645],\n",
       " [458, 258],\n",
       " [459, 599],\n",
       " [460, 164],\n",
       " [461, 318],\n",
       " [462, 175],\n",
       " [463, 492]]"
      ]
     },
     "execution_count": 85,
     "metadata": {},
     "output_type": "execute_result"
    }
   ],
   "source": [
    "nums"
   ]
  },
  {
   "cell_type": "code",
   "execution_count": 41,
   "metadata": {},
   "outputs": [],
   "source": [
    "except_idxes = []\n",
    "\n",
    "for idx, doc in enumerate(docs):\n",
    "    all_text = doc.page_content\n",
    "    try:\n",
    "        title = re.search('^(.+)\\n', all_text).groups()[0].strip()\n",
    "        # print(\"0\")\n",
    "        if re.search('대상\\n', all_text) and re.search('내용\\n', all_text):\n",
    "            targets = re.search('대상((.|[\\s\\n])+?)내용', all_text).groups()[0].strip()\n",
    "        else:\n",
    "            targets = \"\"\n",
    "        # print(\"1\")\n",
    "        if re.search('내용\\n', all_text) and re.search('방법\\n', all_text):\n",
    "            contents = re.search('내용((.|[\\s\\n])+?)방법', all_text).groups()[0].strip()\n",
    "        else:\n",
    "            contents = \"\"\n",
    "        # print(\"2\")\n",
    "        doc.page_content = make_compact_contents(title, targets, contents)\n",
    "    except:\n",
    "        except_idxes.append(idx)\n"
   ]
  },
  {
   "cell_type": "code",
   "execution_count": 42,
   "metadata": {},
   "outputs": [
    {
     "name": "stdout",
     "output_type": "stream",
     "text": [
      "\n"
     ]
    }
   ],
   "source": [
    "print(*except_idxes)"
   ]
  },
  {
   "cell_type": "markdown",
   "metadata": {},
   "source": [
    "### Chroma DB 로 바로 확인하기!"
   ]
  },
  {
   "cell_type": "code",
   "execution_count": null,
   "metadata": {},
   "outputs": [],
   "source": [
    "from langchain.vectorstores.chroma import Chroma\n",
    "from langchain.embeddings import SentenceTransformerEmbeddings as STE"
   ]
  },
  {
   "cell_type": "code",
   "execution_count": 23,
   "metadata": {},
   "outputs": [],
   "source": [
    "base_model = \"BM-K/KoSimCSE-roberta-multitask\""
   ]
  },
  {
   "cell_type": "code",
   "execution_count": 43,
   "metadata": {},
   "outputs": [],
   "source": [
    "emb_info_dict = {'model_name': base_model, 'model_kwargs': {'device': \"cpu\"},\n",
    "'encode_kwargs': {'normalize_embeddings': True}}\n",
    "emb = STE(**emb_info_dict)"
   ]
  },
  {
   "cell_type": "code",
   "execution_count": 44,
   "metadata": {},
   "outputs": [
    {
     "data": {
      "text/plain": [
       "464"
      ]
     },
     "execution_count": 44,
     "metadata": {},
     "output_type": "execute_result"
    }
   ],
   "source": [
    "vs = Chroma.from_documents(docs, embedding=emb, persist_directory=\"workspace/chroma_storage\")\n",
    "vs._collection.count()"
   ]
  },
  {
   "cell_type": "code",
   "execution_count": 35,
   "metadata": {},
   "outputs": [],
   "source": [
    "# vs.delete_collection()\n",
    "# vs.persist()"
   ]
  },
  {
   "cell_type": "code",
   "execution_count": 143,
   "metadata": {},
   "outputs": [
    {
     "data": {
      "text/plain": [
       "[\"다음은 '장애인 거주시설 실비입소 이용료 지원'에 대한 설명입니다.먼저, 이 제도의 대상은 다음과 같습니다.\\n\\n\\n\\n실비 입소 장애인 거주시설에 입소한 장애인 중 기준 중위소득 이하인 장애인\\n    ※ 기초생활수급자(생계, 의료, 주거, 교육) 및 차상위계층(본인부담경감대상, 자활, 장애인, 계층확인)은 별도 소득 및 재산조사 없이 지원대상으로 인정\\n\\n\\n\\n그리고 내용은 다음과 같습니다.\\n\\n\\n\\n장애인거주시설 이용료 중 매월 29만 4천 원 지원\\n\\n\",\n",
       " \"다음은 '장애인연금'에 대한 설명입니다.먼저, 이 제도의 대상은 다음과 같습니다.\\n\\n\\n\\n만 18세 이상의 장애인연금법상 중증장애인 중 본인과 배우자의 소득인정액이 선정기준액 이하에 해당하는 자\\n*장애인연금법상 중증장애인: 보건복지부 장관이 정한 요건을 갖춘 심한 장애인\\n\\n\\n\\n그리고 내용은 다음과 같습니다.\\n\\n\\n\\n근로능력 감소로 소득이 적고, 장애로 인한 추가 지출이 있는 중증 장애인에게 지원\\n\\n생계급여·의료급여수급자 \\n 월 40만 3,180 원 • 기초급여 32만 3,180 원 • 부가급여  8만 원 \\n 월 40만 3,180 원 •부가급여 40만3,180원 \\n \\n 주거급여·교육급여수급자,차상위계층* \\n 최고 월 39만 3,180 원  • 기초급여  32만 3,180 원 • 부가급여 7만 원 \\n 월 7만 원  •부가급여  7만 원 \\n \\n 차상위 초과 \\n 최고 월 34만 3,180 원 • 기초급여 32만 3,180 원 • 부가급여  2만 원 \\n 월 4만 원 • 부가급여  4만 원\\n\\n차상위계층: 2023년 기준 중위소득 50%(4인 기준 270만 482원) 이하\\n\\n차상위계층: 2023년 기준 중위소득 50%(4인 기준 270만 482원) 이하\\n\\n\",\n",
       " \"다음은 '건강보험 차상위'에 대한 설명입니다.먼저, 이 제도의 대상은 다음과 같습니다.\\n\\n\\n\\n희귀난치성 및 중증질환자, 6개월 이상 치료를 받고 있거나 치료가 필요한 만성질환자, 18세 미만 아동·청소년 중 소득인정액이 기준 중위소득 50%(4인 기준 270만 482원) 이하이고 부양요건*을 충족하는 사람\\n\\n부양요건: 부양의무자가 없거나, 있어도 부양능력이 없거나 부양을 받을 수 없는 경우\\n\\n\\n\\n그리고 내용은 다음과 같습니다.\\n\\n\\n\\n요양급여비용 중 본인부담금 경감\\n\\n희귀난치성·중증질환자 \\n 요양급여비(입원·외래) 면제, 기본식대의 20%만 부담 \\n \\n 만성질환자, 18세 미만 아동 \\n 입원비용의 14%, 식대의 20%, 외래비용의 14%(정액 1,000원, 1,500원)만 부담\\n\\n지역가입자의 건강보험료 지급\\n\\n\",\n",
       " \"다음은 '장애수당'에 대한 설명입니다.먼저, 이 제도의 대상은 다음과 같습니다.\\n\\n\\n\\n만 18세 이상의 장애인연금법상 중증장애인\\n\\n에 해당하지 않는 등록장애인 중 기초생활 수급자 또는 차상위계층\\n\\n에 해당하지 않는 등록장애인 중 기초생활 수급자 또는 차상위계층\\n\\n\\n\\n그리고 내용은 다음과 같습니다.\\n\\n\\n\\n소득 수준 및 주거형태에 따라 매월 장애수당 지급\\n\\n장애수당 \\n 월 6만 원 \\n 월 6만 원 \\n 월 3만 원\\n\\n\",\n",
       " \"다음은 '맞춤형 기초생활보장 제도'에 대한 설명입니다.먼저, 이 제도의 대상은 다음과 같습니다.\\n\\n\\n\\n소득인정액이 급여별 선정기준 이하 저소득층 외국인\\n- 한국인과 혼인 중이거나 이혼 또는 배우자 사망으로 한국인 배우자의 부모·조부모, 한국인 자녀·손자녀를 돌보고 있는 사람\\n\\n\\n\\n그리고 내용은 다음과 같습니다.\\n\\n\\n\\n생계급여·주거급여·교육급여, 해산급여·장제급여, 의료급여·자활급여 등 지급\\n- 맞춤형 기초생활보장제도 참조 (본 책자 16p)\\n\\n\",\n",
       " \"다음은 '북한이탈주민 정착금 지원'에 대한 설명입니다.먼저, 이 제도의 대상은 다음과 같습니다.\\n\\n\\n\\n북한이탈주민\\n\\n\\n\\n그리고 내용은 다음과 같습니다.\\n\\n\\n\\n기본금 \\n 1인 세대 기준 900만 원 지급 \\n \\n 가산금 \\n 고령, 장애, 장기치료, 한부모 가정, 3국출생자녀 양육가정 등 취약계층 최대 1,540만 원 지급\\n\\n\",\n",
       " \"다음은 '맞춤형 기초생활보장제도'에 대한 설명입니다.먼저, 이 제도의 대상은 다음과 같습니다.\\n\\n\\n\\n「국민기초생활보장법」에 따른 국민기초생활보장제도는 ① 소득인정액 기준, ② 부양의무자 기준(의료급여에 한함)을 충족하는 저소득층 수급권자에 대해 생계·의료·주거·교육급여를 행하여 최저 생활을 보장하고 자립을 유도하는 제도로 급여종류별 수급자 선정기준* 이하인 경우 해당 급여 지원\\n\\n23년도 급여별 선정기준(1인가구) : \\n| 급여 종류 | 선정 기준 (원) |\\n|----------|-------------|\\n| 생계급여  | 623,368     |\\n| 의료급여  | 831,157     |\\n| 주거급여  | 976,609     |\\n| 교육급여  | 1,038,946   |\\n\\n※ 생계급여의 경우 생계와 주거를 달리하는 1촌 혈족(배우자 포함)의 소득·재산이 일정기준을 초과(연 소득 1억 원, 재산 9억 원) 할 경우 보장 불가\\n\\n\\n\\n그리고 내용은 다음과 같습니다.\\n\\n\\n\\n각 가구의 특성이나 처한 상황에 따라 생계비, 의료비, 주거비, 교육비 등을 지원\\n\\n생계급여 : 가구별 생계급여 선정기준액에서 소득인정액을 뺀 금액을 현금으로 지급\\n  - 지원예시 : 소득인정액이 60만 원인 4인 가구의 경우 : 생계급여 선정기준인 162만 289원에서 60만 원을 뺀 102만 290원 지급(원 단위 올림)\\n-\\n\\n의료급여 : 질병, 부상, 출산 등 필요한 의료서비스를 낮은 본인부담으로 이용\\n\\n< 의료급여 본인부담금 수준 >\\n| 구분 | 1차(의원) | 2차(병원) | 3차(상급종합병원) | 약국 | PET 등 |\\n|------|---------|---------|-----------------|------|--------|\\n| 1종 입원 | 없음 | 없음 | 없음 | - | 없음 |\\n| 1종 외래 | 1,000원 | 1,500원 | 2,000원 | 500원 | 5% |\\n| 2종 입원 | 10% | 10% | 10% | - | 10% |\\n| 2종 외래 | 1,000원 | 15% | 15% | 500원 | 15% |\\n\\n1종 : 근로무능력가구, 희귀·중증난치성질환자, 중증질환자(암환자, 중증화상환자만 해당), 시설수급자\\n\\n2종 : 의료급여수급자 중 1종 수급대상이 아닌 가구\\n\\n주거급여\\n- 임차가구 : 지역 및 가족 수에 따라 산정한 기준임대료를 상한으로 실제 임차료(월임차료+보증금 환산액)를 지원\\n- 자가가구 : 구조안전·설비·마감 등 주택 노후도를 평가(경·중·대 보수로 구분)하여 종합적인 주택개량 지원\\n\\n수선비용(주기) \\n 457만 원(3년) \\n 849만 원(5년) \\n 1,241 만 원(7년) \\n \\n 수선예시 \\n 도배, 장판 등 \\n 오급수 , 난방 등 \\n 지붕, 기둥 등 \\n \\n ※ 장애인 자가가구 수급자 : 주거약자용 편의시설*을 380만 원 한도 내에서 추가로 설치 \\n \\n \\n \\n \\n ※ 고령자(만 65세 이상) : 주거약자용 편의시설*을 50만 원 한도 내에서 추가로 설치 \\n \\n \\n \\n \\n ※ 장애인 추가지원과 고령자 추가지원은 중복지원 불가, 장애인이면서 고령자인 경우 장애인 추가지원 적용\\n\\n교육급여\\n- 교육활동지원비, 교과서대, 고등학교 입학금 및 수업료 지원\\n\\n초등학생 \\n 41만 5,000원 \\n - \\n - \\n \\n 중학생 \\n 58만 9,000원 \\n - \\n - \\n \\n 고등학생 \\n 65만 4,000원 \\n 해당 학년의 정규 교육 과정에 편성된 교과목의 교과서 전체 \\n 학교장 고지 금액 전액 \\n \\n 지급횟수 \\n 연 1회 \\n 연 1회 \\n 입학금은 입학 시 1회, 수업료는 분기별 지급\\n\\n그 밖의 지원\\n\\n해산 급여 \\n 출산(예정)한 경우 아이 1명당 70만 원(쌍둥이는 140만 원) 지급 ※ 생계급여, 의료급여, 주거급여 수급자에게만 지원됩니다. \\n \\n 장제 급여 \\n 사망한 경우 장례를 치르는 사람에게 사망자 1인당 80만 원 지급 ※ 생계급여, 의료급여, 주거급여 수급자에게만 지원됩니다.\\n\\n\",\n",
       " \"다음은 '외국인근로자 등 의료지원'에 대한 설명입니다.먼저, 이 제도의 대상은 다음과 같습니다.\\n\\n\\n\\n노숙인, 외국인근로자 및 그 배우자와 만 18세 미만 자녀, 국적취득 전 결혼이민자 및 그 자녀(만 18세 미만), 난민 및 그 자녀(만 18세 미만)로서 건강보험이나 의료급여와 같은 의료보장제도의 혜택을 받을 수 없는 사람\\n\\n\\n\\n그리고 내용은 다음과 같습니다.\\n\\n\\n\\n입원부터 퇴원까지 발생한 총 진료비를 지원(1회 500만 원 내)\\n\\n\",\n",
       " \"다음은 '장애아동수당'에 대한 설명입니다.먼저, 이 제도의 대상은 다음과 같습니다.\\n\\n\\n\\n만 18세 미만의 등록 장애아동 중 기초생활수급자 또는 차상위계층\\n※ 만 18~20세 학교 재학(휴학, 의무교육 유예자 포함) 중인 경우 장애아동수당 지급\\n\\n\\n\\n그리고 내용은 다음과 같습니다.\\n\\n\\n\\n소득 수준 및 주거형태에 따라 매월 장애아동수당 지급\\n\\n생계급여·의료급여수급자 \\n 월 22만 원 \\n 월 11만 원 \\n \\n 주거급여·교육급여수급자, 차상위계층 \\n 월 17만 원 \\n 월 11만 원 \\n \\n 보장시설수급자(생계급여·의료급여수급자) \\n 월 9만 원 \\n 월 3만 원\\n\\n\",\n",
       " \"다음은 '긴급 주거지원'에 대한 설명입니다.먼저, 이 제도의 대상은 다음과 같습니다.\\n\\n\\n\\n주소득자의 사망, 화재 또는 자연재해 등 갑작스러운 위기상황으로 인하여 생계유지가 곤란한 저소득 가구로서 「긴급복지지원법」에 따라 긴급지원대상자로 선정된 사람\\n\\n\\n\\n그리고 내용은 다음과 같습니다.\\n\\n\\n\\n매입임대, 전세임대 등의 입주 자격 부여(공급물량 범위 내)\\n\\n\",\n",
       " \"다음은 '가사·간병 방문 지원사업'에 대한 설명입니다.먼저, 이 제도의 대상은 다음과 같습니다.\\n\\n\\n\\n만 65세 미만의 기준 중위소득 70% 이하 계층 중 아래의 어느 하나에 해당하는 사람으로서 가사·간병 서비스가 필요한 자\\n- 장애정도가 심한 장애인·중증질환자·희귀난치성 질환자\\n- 소년소녀가정·조손가정·한부모가족(법정보호세대) 등\\n- 만 65세 미만의 의료급여수급자 중 장기입원 사례관리퇴원자\\n※ 동일 또는 유사 서비스 이용자는 제외됨\\n\\n\\n\\n그리고 내용은 다음과 같습니다.\\n\\n\\n\\n한 달에 일정시간 가사 및 간병 서비스를 이용할 수 있는 이용권(바우처) 지원\\n※ 자격 결정일로부터 1년 지원(단, 재판정 절차를 통해 1년 단위로 연장 가능)\\n※ 장기입원사례관리자는 1년 지원(연장불가)\\n\\n\",\n",
       " \"다음은 '장애정도 심사용 진단서 발급비 지원'에 대한 설명입니다.먼저, 이 제도의 대상은 다음과 같습니다.\\n\\n\\n\\n신규 장애인 등록 신청자 중 기초생활수급자(생계, 의료, 주거, 교육)\\n\\n기존 등록장애인 중 재판정을 실시하는 기초생활수급자(생계, 의료, 주거, 교육) 및 차상위 계층\\n\\n\\n\\n그리고 내용은 다음과 같습니다.\\n\\n\\n\\n장애정도 심사용 진단서 발급 비용의 일부(지적, 자폐성, 정신장애 4만 원, 그 외의 장애 1만 5,000원) 지급\\n  ※ 기준 비용보다 영수액이 적은 경우 영수액으로 지원. 단, 신규 장애인 등록 신청자(기초생활수급자)는 정액지급\\n\\n\",\n",
       " \"다음은 '산재근로자 생활안정자금 융자'에 대한 설명입니다.먼저, 이 제도의 대상은 다음과 같습니다.\\n\\n\\n\\n월평균소득이 3인가구 중위소득('23년 443만 4,816원) 이하인 자 중\\n- 유족급여 수급권자, 상병보상연금 수급자 \\n- 장해등급(제1급~제9급) 판정자 \\n- 5년 이상 요양중인 이황화탄소(CS2) 질병판정자 \\n- 3개월 이상 요양 중인 산재근로자로서 평균임금이 최저임금 이하에 해당하는 자(의료비, 혼례비, 장례비에 한정)\\n\\n\\n\\n그리고 내용은 다음과 같습니다.\\n\\n\\n\\n1세대당 2,000만 원까지 각 융자종류별 한도 내에서 대출\\n\\n구분\\n\\n의료비 \\n 1,000만 원 이내 \\n \\n 혼례비 \\n 1,000만 원 이내 \\n \\n 장례비 \\n 1,000만 원 이내 \\n \\n 취업안정자금 \\n 1,000만 원 이내 \\n \\n 주택이전 \\n 1,500만 원 이내 \\n \\n 차량구입 \\n 1,500만 원 이내 \\n \\n 사업자금 \\n 1,500만 원 이내\\n\\n※ 상환\",\n",
       " \"다음은 '북한이탈주민 취약계층 긴급생계비 지원'에 대한 설명입니다.먼저, 이 제도의 대상은 다음과 같습니다.\\n\\n\\n\\n기준 중위소득 75% 이하의 북한이탈주민(세대)으로, 다음 사유로 인해 생계 안정이 필요한 경우:\\n\\n주소득자가 사망, 가출, 행방불명, 구금시설에 수용되는 등의 사유로 소득을 상실한 경우\\n\\n주소득자 또는 부소득자의 실직, 휴업, 폐업 또는 사업장의 화재, 중한 질병이나 부상 등으로 소득 상실 또는 소득활동이 중단된 경우\\n\\n가구구성원으로부터 방임 또는 유기되거나 학대 등을 당한 경우, 가정폭력을 당하여 가구구성원과 함께 원만한 가정생활을 하기 곤란하거나 가구구성원으로부터 성폭력을 당한 경우\\n\\n화재 또는 자연재해 등으로 인하여 거주하는 주택 또는 건물에서 생활하기 곤란하게 된 경우\\n\\n주소득자와 이혼 또는 이혼 소송 등 사실상 가족관계 단절로 생계가 곤란한 경우\\n\\n자살한 자의 유족, 자살을 시도한 자 또는 그의 가족인 자살 고위험군으로서 생계가 곤란한 경우 (단, 심리지원서비스대상자로 동의한 경우에 한함)\\n\\n소득활동 미미(가구원의 보호·양육·간호), 주택 상실, 기초수급 중지, 공과급 미납, 출소 후 재정착, 무연고자 간병, 한부모 출산 등 사유로 긴급지원이 필요한 경우\\n※ '긴급복지지원법'에 의해 지원을 받고 있는 경우 지원 제외\\n\\n\\n\\n그리고 내용은 다음과 같습니다.\\n\\n\\n\\n연 1회, 최대 150만 원 이내(생애 500만 원 한도) 긴급생계비 지원\\n\\n\",\n",
       " \"다음은 '산재근로자 케어센터 지원'에 대한 설명입니다.먼저, 이 제도의 대상은 다음과 같습니다.\\n\\n\\n\\n경기케어센터: 1~3급 산재장해인\\n\\n태백케어센터: 진폐장해인, 진폐의증자, 만성폐쇄성폐질환자 중 일상생활이 가능한 자\\n\\n※ 만 60세 미만은 케어센터 운영위원회에서 입소여부 결정\\n\\n\\n\\n그리고 내용은 다음과 같습니다.\\n\\n\\n\\n가정간병이 곤란한 중증의 산재 또는 진폐 장해인에게 전문적 간병서비스 및 복지시설 제공\\n\\n\",\n",
       " \"다음은 '저소득층 기저•조제분유 지원'에 대한 설명입니다.먼저, 이 제도의 대상은 다음과 같습니다.\\n\\n\\n- 만 2세 미만 영아(0~24개월)를 둔 기초생활보장, 차상위계층, 한부모가족 수급가구 및 기준중위소득 80% 이하 장애인 가구, 기준중위소득 80% 이하 다자녀(2인 이상) 가구\\n  - ※ 조제분유는 기저귀 지원대상자 중 산모가 사망 또는 특정질병(항암치료, 방사선치료, 후천성 면역결핍증 등), 의식기능의 현저한 저하 등으로 모유수유가 불가능한 경우 및 시설 입소 영아, 한부모(부자·조손) 가정 영아, 입양가정의 영아에게 지원\\n\\n\\n\\n그리고 내용은 다음과 같습니다.\\n\\n\\n- 기저귀(월 8만 원) 및 조제분유(월 10만 원) 구매비용 국민행복카드 바우처 제공\\n\\n\",\n",
       " \"다음은 '긴급복지 지원제도'에 대한 설명입니다.먼저, 이 제도의 대상은 다음과 같습니다.\\n\\n\\n\\n생계유지가 곤란한 저소득층으로 아래 위기사유와 소득·재산 기준을 충족하는 가구\\n\\n위기 상황 \\n ① 주소득자의 사망, 가출, 행방불명, 구금시설 수용 등으로 소득을 상실한 경우 ② 중한 질병 또는 부상을 당한 경우 ③ 가구 구성원으로부터 방임 또는 유기되거나 학대 등을 당한 경우 ④ 가족폭력을 당하여 가구구성원과 함께 원만한 가정 생활을 하기 곤란하거나 가구구성원으로부터 성폭력을 당한 경우 ⑤ 화재 또는 자연재해 등으로 인해 거주하는 주택 또는 건물에서 생활하기 곤란한 경우 ⑥ 주소득자 또는 부소득자의 휴업, 폐업 또는 사업장의 화재 등으로 영업이 곤란하게 된 경우 ⑦ 주소득자 또는 부소득자의 실직으로 소득을 상실한 경우 ⑧ 지자체 조례로 정한 사유가 발생한 경우 - 소득활동 미미(가구원 간호, 간병, 양육), 기초수급 중지, 미결정, 수도·가스 중단, 사회보험료·주택임차료 체납 등 ※ 관할 지방자치단체의 조례 확인 ⑨ 그 밖에 보건복지부장관이 정하여 고시하는 경우 - 이혼, 단전, 교정시설 출소, 노숙, 복지사각지대 발굴대상자·통합사례관리 대상자·자살고위험군으로 생계가 어렵다고 추천을 받은 경우, (한시) 코로나 19로 무급휴직자, 자영업자, 특수형태 근로종사자 또는 프리랜서인 주소득자 또는 부소득자의 소득이 급격히 감소하여 생계가 어려운 경우 \\n \\n 소득 \\n 기준 중위소득 75%(1 인 기준 155만 8,419 원, 4인 기준 405만 723원) 이하 \\n \\n 재산 \\n • 대도시 2억 4,100 만~3억 1,000 만 원 이하, 중소도시 1억 5,200 만~1억 9,400 만 원 이하, 농어촌 1억 3,000 만~1억 6,500 만 원 이하 ※ 실거주 주택 1개소에 한하여 주거용재산 공제한도액 적용 • 금융재산: 600 만 원 이하(단, 주거지원은 800만 원 이하)\\n\\n\\n\\n그리고 내용은 다음과 같습니다.\\n\\n\\n\\n주지원(생계) \\n 1개월 생계유지비(식료품비, 의복비, 냉방비 등 포함) \\n 가구원 수에 따른 차등 지급(4인 기준) 162만 200원 \\n 최대 6회 \\n \\n 주지원(의료) \\n 각종 검사, 치료 등 의료서비스 \\n 300만 원 이내 \\n 최대 2회 \\n \\n 주지원(주거) \\n 국가·지자체 소유 또는 타인 소유의 임시거소 제공(지원상한액 내 실비 지원) \\n 지역, 가구원 수에 따른 차등 지급 (대도시, 4인 기준) 66만 2,500원 이내 \\n 최대 12회 \\n \\n 주지원(사회복지 시설 이용) \\n 사회복지시설 입소 또는 이용서비스(지원상한액 내 실비 지원) \\n 가구원 수에 따른 차등 지급(4인 기준) 149만 4,100원 이내 \\n 최대 6회 \\n \\n 부가 지원(교육) \\n 가구원 내 초·중·고등학생의 학용품비 등 \\n 초등학생 : 12만 7,900 원, 중학생 : 18만 원, 고등학생 : 21만 4,000 원 및 수업료·입학금 \\n 최대 2회(4회*) \\n \\n 부가 지원(연료비) \\n 동절기 (10월~3월) 연료비 지원 \\n 월 11만 원 \\n 최대 6회 \\n \\n 부가 지원(해산비) \\n 출산 지원 \\n 70만 원(쌍둥이 출산 시 140만 원) \\n 1회 \\n \\n 부가 지원(장제비) \\n 장례비 지원 \\n 80만 원 \\n 1회 \\n \\n 부가 지원(전기요금) \\n 단전 시 연체된 전기료 지원 \\n 50만 원 이내 \\n 1회 \\n \\n 민간기관·단체 등 연계 \\n \\n 사회복지공동모금회, 대한적십자사 등 민간 프로그램으로 연계 및 상담 등 기타 지원 \\n 횟수 제한 없음\\n\\n주거지원 가구의 교육지원은 최대 4회\\n\\n\",\n",
       " \"다음은 '북한이탈주민 사회보장 지원'에 대한 설명입니다.먼저, 이 제도의 대상은 다음과 같습니다.\\n\\n\\n\\n생활이 어려운 북한이탈주민\\n\\n\\n\\n그리고 내용은 다음과 같습니다.\\n\\n\\n\\n생계급여 및 의료급여 특례\\n\\n최초 거주지 전입일 이후 5년까지 특례 적용\\n\\n근로무능력가구일 경우: 가구원수에 1명을 추가한 소득인정액 기준 적용, 부양의무자 기준 미적용\\n\\n근로능력가구일 경우: 최초 거주지 전입 후 6개월간은 자활사업참여 의무 조건 제시를 유예\\n\\n국민연금 특례\\n\\n보호결정 당시 만 50~60세 미만인 자가 가입 기간 5년을 채우면 노령연금 수급\\n\\n\",\n",
       " \"다음은 '희망복지지원단 통합사례관리사업'에 대한 설명입니다.먼저, 이 제도의 대상은 다음과 같습니다.\\n\\n\\n\\n위기가구로 발굴된 가구로 통합사례관리를 통해 보건, 복지 등 공공, 민간 서비스 제공이 필요한 가구\\n\\n\\n\\n그리고 내용은 다음과 같습니다.\\n\\n\\n\\n복지·보건·고용·주거·교육·신용·법률 등 필요한 서비스를 통합적으로 연계·제공\\n\\n※ 공적지원이 곤란하거나 적절한 민간자원 연계가 어려운 경우 대상가구에 생활지원비, 진단비 및 교육훈련비 등을 지원\\n\\n\",\n",
       " \"다음은 '장애정도 심사 검사비 지원'에 대한 설명입니다.먼저, 이 제도의 대상은 다음과 같습니다.\\n\\n\\n\\n신규 장애인 등록 신청자 중 기초생활수급자(생계, 의료, 주거, 교육)\\n\\n기존 등록장애인 중 재판정*을 실시하는 기초생활수급자(생계, 의료, 주거, 교육) 및 차상위 계층\\n\\n재진단기한 도래에 따른 의무적 재판정 및 장애인연금, 장애수당, 장애아동수당 신청으로 인한 재판정 포함\\n\\n\\n\\n그리고 내용은 다음과 같습니다.\\n\\n\\n\\n검사 실비 지원, 최대 지원액 10만 원\\n\\n\"]"
      ]
     },
     "execution_count": 143,
     "metadata": {},
     "output_type": "execute_result"
    }
   ],
   "source": [
    "q1 = \"차상위 계층이고 당뇨가 있을 때, 어떤 지원을 받을 수 있을까?\"\n",
    "res1 = [d.page_content for d in vs.max_marginal_relevance_search(q1, k=20)]\n",
    "res1"
   ]
  },
  {
   "cell_type": "code",
   "execution_count": 141,
   "metadata": {},
   "outputs": [
    {
     "name": "stdout",
     "output_type": "stream",
     "text": [
      "다음은 '건강보험 차상위'에 대한 설명입니다.먼저, 이 제도의 대상은 다음과 같습니다.\n",
      "\n",
      "\n",
      "\n",
      "희귀난치성 및 중증질환자, 6개월 이상 치료를 받고 있거나 치료가 필요한 만성질환자, 18세 미만 아동·청소년 중 소득인정액이 기준 중위소득 50%(4인 기준 270만 482원) 이하이고 부양요건*을 충족하는 사람\n",
      "\n",
      "부양요건: 부양의무자가 없거나, 있어도 부양능력이 없거나 부양을 받을 수 없는 경우\n",
      "\n",
      "\n",
      "\n",
      "그리고 내용은 다음과 같습니다.\n",
      "\n",
      "\n",
      "\n",
      "요양급여비용 중 본인부담금 경감\n",
      "\n",
      "희귀난치성·중증질환자 \n",
      " 요양급여비(입원·외래) 면제, 기본식대의 20%만 부담 \n",
      " \n",
      " 만성질환자, 18세 미만 아동 \n",
      " 입원비용의 14%, 식대의 20%, 외래비용의 14%(정액 1,000원, 1,500원)만 부담\n",
      "\n",
      "지역가입자의 건강보험료 지급\n",
      "\n",
      "\n"
     ]
    }
   ],
   "source": [
    "print(res1[3])"
   ]
  }
 ],
 "metadata": {
  "kernelspec": {
   "display_name": "Python 3",
   "language": "python",
   "name": "python3"
  },
  "language_info": {
   "codemirror_mode": {
    "name": "ipython",
    "version": 3
   },
   "file_extension": ".py",
   "mimetype": "text/x-python",
   "name": "python",
   "nbconvert_exporter": "python",
   "pygments_lexer": "ipython3",
   "version": "3.10.11"
  }
 },
 "nbformat": 4,
 "nbformat_minor": 2
}
