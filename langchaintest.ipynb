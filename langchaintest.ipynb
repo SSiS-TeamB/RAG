{
 "cells": [
  {
   "cell_type": "markdown",
   "metadata": {},
   "source": [
    "#### if initial env : on cmdline \n",
    "pip install -U langchain langchain_experimental openai"
   ]
  },
  {
   "cell_type": "code",
   "execution_count": 1,
   "metadata": {},
   "outputs": [],
   "source": [
    "from langchain.pydantic_v1 import BaseModel\n",
    "from langchain.chat_models import ChatOpenAI\n",
    "from langchain.prompts import FewShotPromptTemplate, PromptTemplate"
   ]
  },
  {
   "cell_type": "code",
   "execution_count": 2,
   "metadata": {},
   "outputs": [],
   "source": [
    "from langchain_experimental.tabular_synthetic_data.base import SyntheticDataGenerator\n",
    "from langchain_experimental.tabular_synthetic_data.openai import (\n",
    "    create_openai_data_generator,\n",
    "    OPENAI_TEMPLATE,\n",
    ")\n",
    "from langchain_experimental.tabular_synthetic_data.prompts import (\n",
    "    SYNTHETIC_FEW_SHOT_SUFFIX,\n",
    "    SYNTHETIC_FEW_SHOT_PREFIX,\n",
    ")"
   ]
  },
  {
   "cell_type": "code",
   "execution_count": 6,
   "metadata": {},
   "outputs": [
    {
     "name": "stdout",
     "output_type": "stream",
     "text": [
      "<class 'uuid.UUID'>\n"
     ]
    }
   ],
   "source": [
    "import uuid\n",
    "\n",
    "print(type(uuid.uuid4()))"
   ]
  },
  {
   "cell_type": "code",
   "execution_count": 14,
   "metadata": {},
   "outputs": [
    {
     "data": {
      "text/plain": [
       "'From this uuid, give me another uuid.\\nThe output should be formatted as a JSON instance that conforms to the JSON schema below.\\n\\nAs an example, for the schema {\"properties\": {\"foo\": {\"title\": \"Foo\", \"description\": \"a list of strings\", \"type\": \"array\", \"items\": {\"type\": \"string\"}}}, \"required\": [\"foo\"]}\\nthe object {\"foo\": [\"bar\", \"baz\"]} is a well-formatted instance of the schema. The object {\"properties\": {\"foo\": [\"bar\", \"baz\"]}} is not well-formatted.\\n\\nHere is the output schema:\\n```\\n{\"properties\": {\"query\": {\"title\": \"Query\", \"type\": \"string\", \"format\": \"uuid\"}}, \"required\": [\"query\"]}\\n```\\n1028452d-564e-44d6-a037-1f121e85c472'"
      ]
     },
     "execution_count": 14,
     "metadata": {},
     "output_type": "execute_result"
    }
   ],
   "source": [
    "#pydanticinit\n",
    "class WelFareDataset(BaseModel) :\n",
    "    query: uuid.UUID\n",
    "\n",
    "#uuid test\n",
    "from langchain.output_parsers import PydanticOutputParser\n",
    "\n",
    "parser = PydanticOutputParser(pydantic_object=WelFareDataset)\n",
    "\n",
    "prompt = PromptTemplate(\n",
    "    template=\"From this uuid, give me another uuid.\\n{format_instructions}\\n{uuid_input}\",\n",
    "    input_variables=[\"uuid_input\"],\n",
    "    partial_variables={\"format_instructions\": parser.get_format_instructions()},\n",
    "    )\n",
    "\n",
    "### test run\n",
    "_input = prompt.format_prompt(uuid_input=uuid.uuid4())\n",
    "\n",
    "_input.to_string()\n",
    "\n",
    "#일단 잘 됨. 근데 이걸로 데이터셋 어떻게 만듬?(진짜 모름)"
   ]
  },
  {
   "cell_type": "code",
   "execution_count": null,
   "metadata": {},
   "outputs": [],
   "source": [
    "##### DirectoryLoader 사용해서 구현한다음에 split 잘 되면 uuid 부여하기"
   ]
  },
  {
   "cell_type": "code",
   "execution_count": 15,
   "metadata": {},
   "outputs": [],
   "source": [
    "from langchain.document_loaders import UnstructuredMarkdownLoader"
   ]
  },
  {
   "cell_type": "code",
   "execution_count": 18,
   "metadata": {},
   "outputs": [],
   "source": [
    "test_document = UnstructuredMarkdownLoader(file_path=\"./markdownDB/01_생계_지원/01_LPG용기_사용가구_시설개선.md\")"
   ]
  },
  {
   "cell_type": "code",
   "execution_count": 24,
   "metadata": {},
   "outputs": [
    {
     "data": {
      "text/plain": [
       "Document(page_content='LPG용기 사용가구 시설개선\\n\\n대상\\n\\nLPG용기 사용 주택에서 LPG 고무호스를 사용 중인 가구\\n\\n내용\\n\\nLP가스 고무호스 교체(금속배관) 및 안전장치(퓨즈콕) 등 가스시설 설치 지원 (시공비 약 25만 원 중 20만 원 상당 지원, 자부담 5만 원)\\n\\n방법\\n\\n수혜대상자가 소재지 시군구 가스담당부서 또는 읍면동 주민센터(행정복지센터) 방문 신청\\n\\n문의\\n\\n소재지 시군구 가스담당부서 또는 읍면동 주민센터(행정복지센터)\\n\\n한국가스안전공사(☎1544-4500)', metadata={'source': './markdownDB/01_생계_지원/01_LPG용기_사용가구_시설개선.md'})"
      ]
     },
     "execution_count": 24,
     "metadata": {},
     "output_type": "execute_result"
    }
   ],
   "source": [
    "test_doc = test_document.load()\n",
    "test_doc[0]"
   ]
  },
  {
   "cell_type": "code",
   "execution_count": 25,
   "metadata": {},
   "outputs": [
    {
     "data": {
      "text/plain": [
       "'LPG용기 사용가구 시설개선\\n\\n대상\\n\\nLPG용기 사용 주택에서 LPG 고무호스를 사용 중인 가구\\n\\n내용\\n\\nLP가스 고무호스 교체(금속배관) 및 안전장치(퓨즈콕) 등 가스시설 설치 지원 (시공비 약 25만 원 중 20만 원 상당 지원, 자부담 5만 원)\\n\\n방법\\n\\n수혜대상자가 소재지 시군구 가스담당부서 또는 읍면동 주민센터(행정복지센터) 방문 신청\\n\\n문의\\n\\n소재지 시군구 가스담당부서 또는 읍면동 주민센터(행정복지센터)\\n\\n한국가스안전공사(☎1544-4500)'"
      ]
     },
     "execution_count": 25,
     "metadata": {},
     "output_type": "execute_result"
    }
   ],
   "source": [
    "test_doc[0].page_content"
   ]
  },
  {
   "cell_type": "code",
   "execution_count": 29,
   "metadata": {},
   "outputs": [
    {
     "data": {
      "text/plain": [
       "[Document(page_content='LPG용기 사용가구 시설개선\\n\\n대상\\n\\nLPG용기 사용 주택에서 LPG 고무호스를 사용 중인 가구\\n\\n내용\\n\\nLP가스 고무호스 교체(금속배관) 및 안전장치(퓨즈콕) 등 가스시설 설치 지원 (시공비 약 25만 원 중 20만 원 상당 지원, 자부담 5만 원)\\n\\n방법\\n\\n수혜대상자가 소재지 시군구 가스담당부서 또는 읍면동 주민센터(행정복지센터) 방문 신청\\n\\n문의', metadata={'source': './markdownDB/01_생계_지원/01_LPG용기_사용가구_시설개선.md'}),\n",
       " Document(page_content='내용\\n\\nLP가스 고무호스 교체(금속배관) 및 안전장치(퓨즈콕) 등 가스시설 설치 지원 (시공비 약 25만 원 중 20만 원 상당 지원, 자부담 5만 원)\\n\\n방법\\n\\n수혜대상자가 소재지 시군구 가스담당부서 또는 읍면동 주민센터(행정복지센터) 방문 신청\\n\\n문의\\n\\n소재지 시군구 가스담당부서 또는 읍면동 주민센터(행정복지센터)', metadata={'source': './markdownDB/01_생계_지원/01_LPG용기_사용가구_시설개선.md'}),\n",
       " Document(page_content='LP가스 고무호스 교체(금속배관) 및 안전장치(퓨즈콕) 등 가스시설 설치 지원 (시공비 약 25만 원 중 20만 원 상당 지원, 자부담 5만 원)\\n\\n방법\\n\\n수혜대상자가 소재지 시군구 가스담당부서 또는 읍면동 주민센터(행정복지센터) 방문 신청\\n\\n문의\\n\\n소재지 시군구 가스담당부서 또는 읍면동 주민센터(행정복지센터)\\n\\n한국가스안전공사(☎1544-4500)', metadata={'source': './markdownDB/01_생계_지원/01_LPG용기_사용가구_시설개선.md'})]"
      ]
     },
     "execution_count": 29,
     "metadata": {},
     "output_type": "execute_result"
    }
   ],
   "source": [
    "from langchain.text_splitter import RecursiveCharacterTextSplitter\n",
    "\n",
    "text_splitter = RecursiveCharacterTextSplitter(\n",
    "    separators= \"\\n\\n\",\n",
    "    chunk_size=200,\n",
    "    is_separator_regex=False,\n",
    ")\n",
    "\n",
    "result = text_splitter.split_documents(test_doc)\n",
    "result"
   ]
  },
  {
   "cell_type": "code",
   "execution_count": null,
   "metadata": {},
   "outputs": [],
   "source": []
  },
  {
   "cell_type": "code",
   "execution_count": null,
   "metadata": {},
   "outputs": [],
   "source": []
  }
 ],
 "metadata": {
  "kernelspec": {
   "display_name": "py3.10.13",
   "language": "python",
   "name": "python3"
  },
  "language_info": {
   "codemirror_mode": {
    "name": "ipython",
    "version": 3
   },
   "file_extension": ".py",
   "mimetype": "text/x-python",
   "name": "python",
   "nbconvert_exporter": "python",
   "pygments_lexer": "ipython3",
   "version": "3.10.13"
  }
 },
 "nbformat": 4,
 "nbformat_minor": 2
}
