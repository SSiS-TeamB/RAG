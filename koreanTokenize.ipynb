{
 "cells": [
  {
   "cell_type": "markdown",
   "metadata": {},
   "source": [
    "### 파일 읽기"
   ]
  },
  {
   "cell_type": "code",
   "execution_count": 1,
   "metadata": {},
   "outputs": [],
   "source": [
    "import os"
   ]
  },
  {
   "cell_type": "code",
   "execution_count": 4,
   "metadata": {},
   "outputs": [
    {
     "data": {
      "text/plain": [
       "['D:/python_project/RAG-main/RAG/workspace/markdownDB/01_생계_지원',\n",
       " 'D:/python_project/RAG-main/RAG/workspace/markdownDB/02_취업_지원',\n",
       " 'D:/python_project/RAG-main/RAG/workspace/markdownDB/03_임신•보육_지원',\n",
       " 'D:/python_project/RAG-main/RAG/workspace/markdownDB/04_청소년•청년_지원',\n",
       " 'D:/python_project/RAG-main/RAG/workspace/markdownDB/05_보건의료_지원',\n",
       " 'D:/python_project/RAG-main/RAG/workspace/markdownDB/06_노령층_지원',\n",
       " 'D:/python_project/RAG-main/RAG/workspace/markdownDB/07_장애인_지원',\n",
       " 'D:/python_project/RAG-main/RAG/workspace/markdownDB/08_보훈대상자_지원',\n",
       " 'D:/python_project/RAG-main/RAG/workspace/markdownDB/09_법률·금융_복지_지원',\n",
       " 'D:/python_project/RAG-main/RAG/workspace/markdownDB/10_기타_위기별·상황별_지원']"
      ]
     },
     "execution_count": 4,
     "metadata": {},
     "output_type": "execute_result"
    }
   ],
   "source": [
    "md_dir_path = \"D:/python_project/RAG-main/RAG/workspace/markdownDB/\"\n",
    "d1_names = [os.path.join(md_dir_path, name) for name in os.listdir(md_dir_path)]\n",
    "d1_names"
   ]
  },
  {
   "cell_type": "code",
   "execution_count": 23,
   "metadata": {},
   "outputs": [],
   "source": [
    "def read_file(f_path):\n",
    "    with open(f_path, \"r\", encoding=\"utf-8\") as input_file:\n",
    "        text = input_file.read()\n",
    "        # print(text)\n",
    "    return text"
   ]
  },
  {
   "cell_type": "code",
   "execution_count": 28,
   "metadata": {},
   "outputs": [
    {
     "data": {
      "text/plain": [
       "464"
      ]
     },
     "execution_count": 28,
     "metadata": {},
     "output_type": "execute_result"
    }
   ],
   "source": [
    "all_files = []\n",
    "\n",
    "for d1 in d1_names:\n",
    "    for f_name in os.listdir(d1):\n",
    "        f_full_path = f\"{d1}/{f_name}\"\n",
    "        # print(f_full_path)\n",
    "        text = read_file(f_full_path)\n",
    "        tokenized_list = default_preprocessing_func(text, os.path.join(model_path, model_name))\n",
    "\n"
   ]
  },
  {
   "cell_type": "code",
   "execution_count": 6,
   "metadata": {},
   "outputs": [
    {
     "data": {
      "text/plain": [
       "'D:/python_project/RAG-main/RAG/workspace/markdownDB/01_생계_지원\\\\01_기존주택_일반_저소득층·신혼부부·청년_등_전세임대_지원.md'"
      ]
     },
     "execution_count": 6,
     "metadata": {},
     "output_type": "execute_result"
    }
   ],
   "source": [
    "path = \"D:/python_project/RAG-main/RAG/workspace/markdownDB/01_생계_지원\"\n",
    "file_name = \"01_기존주택_일반_저소득층·신혼부부·청년_등_전세임대_지원.md\"\n",
    "\n",
    "full_path = os.path.join(path, file_name)\n",
    "full_path"
   ]
  },
  {
   "cell_type": "code",
   "execution_count": 8,
   "metadata": {},
   "outputs": [],
   "source": [
    "with open(full_path, \"r\", encoding=\"utf-8\") as input_file:\n",
    "    text = input_file.read()\n",
    "    # print(text)"
   ]
  },
  {
   "cell_type": "markdown",
   "metadata": {},
   "source": [
    "### 본격 전처리"
   ]
  },
  {
   "cell_type": "code",
   "execution_count": 11,
   "metadata": {},
   "outputs": [],
   "source": [
    "import pickle"
   ]
  },
  {
   "cell_type": "code",
   "execution_count": 16,
   "metadata": {},
   "outputs": [],
   "source": [
    "with open('./tokenizer/extended_vocab_dict.pickle', 'rb') as fr:\n",
    "    vocab_dict = pickle.load(fr)"
   ]
  },
  {
   "cell_type": "code",
   "execution_count": 20,
   "metadata": {},
   "outputs": [],
   "source": [
    "# vocab_id_2_word = {v: k for k, v in vocab_dict.items()}\n"
   ]
  },
  {
   "cell_type": "code",
   "execution_count": 21,
   "metadata": {},
   "outputs": [],
   "source": [
    "from transformers import AutoModel, AutoTokenizer"
   ]
  },
  {
   "cell_type": "code",
   "execution_count": 30,
   "metadata": {},
   "outputs": [],
   "source": [
    "model_path = \"D:\\python_project\\RAG-main\\RAG\\workspace\"\n",
    "model_name = \"dadt_epoch2_minfre3_kha_tok\""
   ]
  },
  {
   "cell_type": "code",
   "execution_count": 23,
   "metadata": {},
   "outputs": [],
   "source": [
    "tokenizer_base = AutoTokenizer.from_pretrained(os.path.join(model_path, model_name))\n"
   ]
  },
  {
   "cell_type": "code",
   "execution_count": 26,
   "metadata": {},
   "outputs": [],
   "source": [
    "tokenized_list = tokenizer_base.tokenize(text)"
   ]
  },
  {
   "cell_type": "code",
   "execution_count": 27,
   "metadata": {},
   "outputs": [],
   "source": [
    "# 기존 default_preprocessing_func \n",
    "# def default_preprocessing_func(text: str) -> List[str]:\n",
    "#     return text.split()"
   ]
  },
  {
   "cell_type": "code",
   "execution_count": 29,
   "metadata": {},
   "outputs": [],
   "source": [
    "def default_preprocessing_func(text: str, model_path) -> list[str]:\n",
    "    try:\n",
    "        tokenizer_base = AutoTokenizer.from_pretrained(model_path)\n",
    "    except NameError:\n",
    "        from transformers import AutoTokenizer\n",
    "        tokenizer_base = AutoTokenizer.from_pretrained(model_path)\n",
    "    tokenized_list = [tok.replace(\"##\", \"\") for tok in tokenizer_base.tokenize(text)]\n",
    "    return tokenized_list"
   ]
  },
  {
   "cell_type": "code",
   "execution_count": 14,
   "metadata": {},
   "outputs": [
    {
     "data": {
      "text/plain": [
       "['야', '이', '바보', '들', '아', '보고', '있', '냐', '?']"
      ]
     },
     "execution_count": 14,
     "metadata": {},
     "output_type": "execute_result"
    }
   ],
   "source": [
    "default_preprocessing_func(\"야 이 바보들아 보고 있냐?\", os.path.join(model_path, model_name))"
   ]
  }
 ],
 "metadata": {
  "kernelspec": {
   "display_name": "Python 3",
   "language": "python",
   "name": "python3"
  },
  "language_info": {
   "codemirror_mode": {
    "name": "ipython",
    "version": 3
   },
   "file_extension": ".py",
   "mimetype": "text/x-python",
   "name": "python",
   "nbconvert_exporter": "python",
   "pygments_lexer": "ipython3",
   "version": "3.10.11"
  }
 },
 "nbformat": 4,
 "nbformat_minor": 2
}
